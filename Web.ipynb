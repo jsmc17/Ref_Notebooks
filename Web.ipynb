{
  "nbformat": 4,
  "nbformat_minor": 0,
  "metadata": {
    "colab": {
      "name": "Web.ipynb",
      "provenance": [],
      "toc_visible": true,
      "authorship_tag": "ABX9TyMrSn5m1rqtpKDchHnpgclM"
    },
    "kernelspec": {
      "name": "python3",
      "display_name": "Python 3"
    }
  },
  "cells": [
    {
      "cell_type": "code",
      "metadata": {
        "id": "iCIQz1c5D0Hb"
      },
      "source": [
        ""
      ],
      "execution_count": null,
      "outputs": []
    },
    {
      "cell_type": "markdown",
      "metadata": {
        "id": "4tirYL44eeRG"
      },
      "source": [
        "# 1-Webscraping"
      ]
    },
    {
      "cell_type": "markdown",
      "metadata": {
        "id": "Be0SE4CwhjT6"
      },
      "source": [
        "## Basics "
      ]
    },
    {
      "cell_type": "markdown",
      "metadata": {
        "id": "eK3QWMHonFCP"
      },
      "source": [
        "### Responses"
      ]
    },
    {
      "cell_type": "code",
      "metadata": {
        "id": "Ajn08OwXefPR"
      },
      "source": [
        "URL = 'https://en.wikipedia.org/wiki/Questrom_School_of_Business'"
      ],
      "execution_count": null,
      "outputs": []
    },
    {
      "cell_type": "code",
      "metadata": {
        "id": "tGxx-v08hXaB",
        "colab": {
          "base_uri": "https://localhost:8080/"
        },
        "outputId": "4b19eb69-6f04-4a9f-fb81-a91d9f3b4e96"
      },
      "source": [
        "resp = requests.get(URL)\n",
        "resp"
      ],
      "execution_count": null,
      "outputs": [
        {
          "output_type": "execute_result",
          "data": {
            "text/plain": [
              "<Response [200]>"
            ]
          },
          "metadata": {
            "tags": []
          },
          "execution_count": 72
        }
      ]
    },
    {
      "cell_type": "code",
      "metadata": {
        "id": "FCvjvJIIhY_o",
        "colab": {
          "base_uri": "https://localhost:8080/"
        },
        "outputId": "92792d50-176c-4b00-bb2a-4fc246f77b12"
      },
      "source": [
        "resp.status_code"
      ],
      "execution_count": null,
      "outputs": [
        {
          "output_type": "execute_result",
          "data": {
            "text/plain": [
              "200"
            ]
          },
          "metadata": {
            "tags": []
          },
          "execution_count": 73
        }
      ]
    },
    {
      "cell_type": "code",
      "metadata": {
        "id": "4z-umO3LhaeQ",
        "colab": {
          "base_uri": "https://localhost:8080/"
        },
        "outputId": "fe6648ab-fd69-472f-85d0-37b857e0c64a"
      },
      "source": [
        "resp.text[:500]\n",
        "#website is basically a text file of html code"
      ],
      "execution_count": null,
      "outputs": [
        {
          "output_type": "execute_result",
          "data": {
            "application/vnd.google.colaboratory.intrinsic+json": {
              "type": "string"
            },
            "text/plain": [
              "'<!DOCTYPE html>\\n<html class=\"client-nojs\" lang=\"en\" dir=\"ltr\">\\n<head>\\n<meta charset=\"UTF-8\"/>\\n<title>Questrom School of Business - Wikipedia</title>\\n<script>document.documentElement.className=\"client-js\";RLCONF={\"wgBreakFrames\":!1,\"wgSeparatorTransformTable\":[\"\",\"\"],\"wgDigitTransformTable\":[\"\",\"\"],\"wgDefaultDateFormat\":\"dmy\",\"wgMonthNames\":[\"\",\"January\",\"February\",\"March\",\"April\",\"May\",\"June\",\"July\",\"August\",\"September\",\"October\",\"November\",\"December\"],\"wgRequestId\":\"f08774ec-ae3c-4187-98cc-0be7'"
            ]
          },
          "metadata": {
            "tags": []
          },
          "execution_count": 74
        }
      ]
    },
    {
      "cell_type": "code",
      "metadata": {
        "id": "AxtwuEUxhgvI"
      },
      "source": [
        ""
      ],
      "execution_count": null,
      "outputs": []
    },
    {
      "cell_type": "markdown",
      "metadata": {
        "id": "tSTgT2FKmsQ0"
      },
      "source": [
        "### Parsing with BeautifulSoup"
      ]
    },
    {
      "cell_type": "code",
      "metadata": {
        "id": "6TnU2msLj3g1",
        "colab": {
          "base_uri": "https://localhost:8080/"
        },
        "outputId": "eb37f7a3-b845-48d8-a3c0-693430fac58c"
      },
      "source": [
        "soup = BeautifulSoup(resp.text, 'html.parser')\n",
        "type(soup)"
      ],
      "execution_count": null,
      "outputs": [
        {
          "output_type": "execute_result",
          "data": {
            "text/plain": [
              "bs4.BeautifulSoup"
            ]
          },
          "metadata": {
            "tags": []
          },
          "execution_count": 89
        }
      ]
    },
    {
      "cell_type": "code",
      "metadata": {
        "id": "JaQHzVGdmlkg",
        "colab": {
          "base_uri": "https://localhost:8080/"
        },
        "outputId": "72a63cf3-ee8e-4ed1-e192-69fe8eaff8aa"
      },
      "source": [
        "#title\n",
        "title = soup.find('title')\n",
        "title"
      ],
      "execution_count": null,
      "outputs": [
        {
          "output_type": "execute_result",
          "data": {
            "text/plain": [
              "<title>Questrom School of Business - Wikipedia</title>"
            ]
          },
          "metadata": {
            "tags": []
          },
          "execution_count": 90
        }
      ]
    },
    {
      "cell_type": "code",
      "metadata": {
        "id": "kjlvU3lxmo4c",
        "colab": {
          "base_uri": "https://localhost:8080/"
        },
        "outputId": "ba215c01-7d9f-480d-9cb5-3661f4b1a0be"
      },
      "source": [
        "type(title)"
      ],
      "execution_count": null,
      "outputs": [
        {
          "output_type": "execute_result",
          "data": {
            "text/plain": [
              "bs4.element.Tag"
            ]
          },
          "metadata": {
            "tags": []
          },
          "execution_count": 91
        }
      ]
    },
    {
      "cell_type": "code",
      "metadata": {
        "id": "1RzSzoXqmpDr",
        "colab": {
          "base_uri": "https://localhost:8080/"
        },
        "outputId": "f318bbd7-0994-4c83-b554-d9469ac11f8f"
      },
      "source": [
        "title.text"
      ],
      "execution_count": null,
      "outputs": [
        {
          "output_type": "execute_result",
          "data": {
            "application/vnd.google.colaboratory.intrinsic+json": {
              "type": "string"
            },
            "text/plain": [
              "'Questrom School of Business - Wikipedia'"
            ]
          },
          "metadata": {
            "tags": []
          },
          "execution_count": 92
        }
      ]
    },
    {
      "cell_type": "code",
      "metadata": {
        "id": "61_isV3vnq8s"
      },
      "source": [
        ""
      ],
      "execution_count": null,
      "outputs": []
    },
    {
      "cell_type": "code",
      "metadata": {
        "id": "CAvrNMpOmpLB",
        "colab": {
          "base_uri": "https://localhost:8080/"
        },
        "outputId": "63891293-df7d-44f9-b665-e999e4d4c984"
      },
      "source": [
        "#body\n",
        "soup.body.text[:500]"
      ],
      "execution_count": null,
      "outputs": [
        {
          "output_type": "execute_result",
          "data": {
            "application/vnd.google.colaboratory.intrinsic+json": {
              "type": "string"
            },
            "text/plain": [
              "'\\n\\n\\n\\n\\n\\n\\nQuestrom School of Business\\n\\nFrom Wikipedia, the free encyclopedia\\n\\n\\n\\nJump to navigation\\nJump to search\\nBoston UniversityQuestrom School of BusinessThe Rafik B. Hariri BuildingTypePrivateEstablished1913DeanSusan FournierAcademic staff255Undergraduates1,748Postgraduates881LocationBoston, Massachusetts, United StatesCampusUrbanWebsiteQuestrom Website\\nThe Questrom School of Business (formerly, the Boston University School of Management) is the business school at Boston University in Boston, '"
            ]
          },
          "metadata": {
            "tags": []
          },
          "execution_count": 94
        }
      ]
    },
    {
      "cell_type": "code",
      "metadata": {
        "id": "qFK8EOs2mpH7",
        "colab": {
          "base_uri": "https://localhost:8080/"
        },
        "outputId": "ff9c61f0-17f9-4dc7-d54e-c26b4a3922cf"
      },
      "source": [
        "body = soup.body.text\n",
        "body.strip().replace(\"\\n\", \" \")[:500]"
      ],
      "execution_count": null,
      "outputs": [
        {
          "output_type": "execute_result",
          "data": {
            "application/vnd.google.colaboratory.intrinsic+json": {
              "type": "string"
            },
            "text/plain": [
              "'Questrom School of Business  From Wikipedia, the free encyclopedia    Jump to navigation Jump to search Boston UniversityQuestrom School of BusinessThe Rafik B. Hariri BuildingTypePrivateEstablished1913DeanSusan FournierAcademic staff255Undergraduates1,748Postgraduates881LocationBoston, Massachusetts, United StatesCampusUrbanWebsiteQuestrom Website The Questrom School of Business (formerly, the Boston University School of Management) is the business school at Boston University in Boston, MA, USA'"
            ]
          },
          "metadata": {
            "tags": []
          },
          "execution_count": 95
        }
      ]
    },
    {
      "cell_type": "code",
      "metadata": {
        "id": "Zj89khfWmo-K"
      },
      "source": [
        ""
      ],
      "execution_count": null,
      "outputs": []
    },
    {
      "cell_type": "code",
      "metadata": {
        "id": "BbxmZo69mo8N"
      },
      "source": [
        "#look for the paragraphs\n",
        "pars = soup.find_all(\"p\")"
      ],
      "execution_count": null,
      "outputs": []
    },
    {
      "cell_type": "code",
      "metadata": {
        "id": "RRyyzaQknywH",
        "colab": {
          "base_uri": "https://localhost:8080/"
        },
        "outputId": "433c4efd-7802-4310-bb39-e06abc2f3b50"
      },
      "source": [
        "type(pars)"
      ],
      "execution_count": null,
      "outputs": [
        {
          "output_type": "execute_result",
          "data": {
            "text/plain": [
              "bs4.element.ResultSet"
            ]
          },
          "metadata": {
            "tags": []
          },
          "execution_count": 97
        }
      ]
    },
    {
      "cell_type": "code",
      "metadata": {
        "id": "TYcLldKFn0WD"
      },
      "source": [
        "paragraphs = []\n",
        "for p in pars:\n",
        "    paragraphs.append(p.text)"
      ],
      "execution_count": null,
      "outputs": []
    },
    {
      "cell_type": "code",
      "metadata": {
        "id": "rpzYLup5n5Ub",
        "colab": {
          "base_uri": "https://localhost:8080/"
        },
        "outputId": "48aeb05e-62bb-434a-c0dd-6761dc55ecea"
      },
      "source": [
        "paragraphs[0]"
      ],
      "execution_count": null,
      "outputs": [
        {
          "output_type": "execute_result",
          "data": {
            "application/vnd.google.colaboratory.intrinsic+json": {
              "type": "string"
            },
            "text/plain": [
              "'The Questrom School of Business (formerly, the Boston University School of Management) is the business school at Boston University in Boston, MA, USA. Founded in 1913 as the College of Business Administration, the school offers undergraduate and graduate programs.\\n'"
            ]
          },
          "metadata": {
            "tags": []
          },
          "execution_count": 99
        }
      ]
    },
    {
      "cell_type": "code",
      "metadata": {
        "id": "sX_agyykn63T",
        "colab": {
          "base_uri": "https://localhost:8080/"
        },
        "outputId": "d7879993-4d62-464c-e208-5282ac1ee344"
      },
      "source": [
        "paragraphs[1]"
      ],
      "execution_count": null,
      "outputs": [
        {
          "output_type": "execute_result",
          "data": {
            "application/vnd.google.colaboratory.intrinsic+json": {
              "type": "string"
            },
            "text/plain": [
              "'The BU Questrom School of Business offers a Bachelor of Science in Business Administration (BSBA), Master of Business Administration (MBA) degree (full- and part-time programs), a Master of Science (MS) in Mathematical Finance, a Master of Science in Management Studies (MSMS), executive education programs, and two Ph.D. programs. Both the undergraduate and graduate programs offer dual degree options with other schools and colleges at Boston University.\\n'"
            ]
          },
          "metadata": {
            "tags": []
          },
          "execution_count": 100
        }
      ]
    },
    {
      "cell_type": "code",
      "metadata": {
        "id": "CfUgJHpsn9R7"
      },
      "source": [
        ""
      ],
      "execution_count": null,
      "outputs": []
    },
    {
      "cell_type": "markdown",
      "metadata": {
        "id": "rbKJZXDwobrW"
      },
      "source": [
        "## Scraping Links and URLs"
      ]
    },
    {
      "cell_type": "code",
      "metadata": {
        "id": "i1eKiaiEoe9C"
      },
      "source": [
        "links = soup.find_all(\"a\")\n",
        "# a-tag represents links"
      ],
      "execution_count": null,
      "outputs": []
    },
    {
      "cell_type": "code",
      "metadata": {
        "id": "QCTJnI1CpXC6",
        "colab": {
          "base_uri": "https://localhost:8080/"
        },
        "outputId": "88a79153-ba61-41a0-9cb1-e617cdd30cf0"
      },
      "source": [
        "len(links)\n",
        "#346 links on page"
      ],
      "execution_count": null,
      "outputs": [
        {
          "output_type": "execute_result",
          "data": {
            "text/plain": [
              "346"
            ]
          },
          "metadata": {
            "tags": []
          },
          "execution_count": 105
        }
      ]
    },
    {
      "cell_type": "code",
      "metadata": {
        "id": "q2yiPeKQpYFi",
        "colab": {
          "base_uri": "https://localhost:8080/"
        },
        "outputId": "297f7087-84c8-4ae7-9f01-f10068996b68"
      },
      "source": [
        "links[:10]"
      ],
      "execution_count": null,
      "outputs": [
        {
          "output_type": "execute_result",
          "data": {
            "text/plain": [
              "[<a id=\"top\"></a>,\n",
              " <a class=\"mw-jump-link\" href=\"#mw-head\">Jump to navigation</a>,\n",
              " <a class=\"mw-jump-link\" href=\"#searchInput\">Jump to search</a>,\n",
              " <a class=\"image\" href=\"/wiki/File:BU_School_of_Management.JPG\"><img alt=\"BU School of Management.JPG\" data-file-height=\"1000\" data-file-width=\"1474\" decoding=\"async\" height=\"170\" src=\"//upload.wikimedia.org/wikipedia/commons/thumb/7/74/BU_School_of_Management.JPG/250px-BU_School_of_Management.JPG\" srcset=\"//upload.wikimedia.org/wikipedia/commons/thumb/7/74/BU_School_of_Management.JPG/375px-BU_School_of_Management.JPG 1.5x, //upload.wikimedia.org/wikipedia/commons/thumb/7/74/BU_School_of_Management.JPG/500px-BU_School_of_Management.JPG 2x\" width=\"250\"/></a>,\n",
              " <a class=\"mw-redirect\" href=\"/wiki/Private_school\" title=\"Private school\">Private</a>,\n",
              " <a href=\"/wiki/Dean_(education)\" title=\"Dean (education)\">Dean</a>,\n",
              " <a href=\"/wiki/Undergraduate_education\" title=\"Undergraduate education\">Undergraduates</a>,\n",
              " <a href=\"/wiki/Postgraduate_education\" title=\"Postgraduate education\">Postgraduates</a>,\n",
              " <a href=\"/wiki/Boston\" title=\"Boston\">Boston</a>,\n",
              " <a href=\"/wiki/Massachusetts\" title=\"Massachusetts\">Massachusetts</a>]"
            ]
          },
          "metadata": {
            "tags": []
          },
          "execution_count": 106
        }
      ]
    },
    {
      "cell_type": "code",
      "metadata": {
        "id": "xkijNGEJrS2s"
      },
      "source": [
        ""
      ],
      "execution_count": null,
      "outputs": []
    },
    {
      "cell_type": "code",
      "metadata": {
        "id": "2UsJYrDErLZa",
        "colab": {
          "base_uri": "https://localhost:8080/"
        },
        "outputId": "1a74bc00-9117-43e8-a231-6fe97b0eea36"
      },
      "source": [
        "#parsing the link with a list comprehension\n",
        "links_parsed = [link['href'] for link in links if link.has_attr(\"href\")]\n",
        "len(links_parsed)"
      ],
      "execution_count": null,
      "outputs": [
        {
          "output_type": "execute_result",
          "data": {
            "text/plain": [
              "344"
            ]
          },
          "metadata": {
            "tags": []
          },
          "execution_count": 107
        }
      ]
    },
    {
      "cell_type": "code",
      "metadata": {
        "id": "SvjcEvc2rQGX",
        "colab": {
          "base_uri": "https://localhost:8080/"
        },
        "outputId": "1253465a-7145-4586-e86b-040509637ad5"
      },
      "source": [
        "links_parsed[:10]"
      ],
      "execution_count": null,
      "outputs": [
        {
          "output_type": "execute_result",
          "data": {
            "text/plain": [
              "['#mw-head',\n",
              " '#searchInput',\n",
              " '/wiki/File:BU_School_of_Management.JPG',\n",
              " '/wiki/Private_school',\n",
              " '/wiki/Dean_(education)',\n",
              " '/wiki/Undergraduate_education',\n",
              " '/wiki/Postgraduate_education',\n",
              " '/wiki/Boston',\n",
              " '/wiki/Massachusetts',\n",
              " '/wiki/United_States']"
            ]
          },
          "metadata": {
            "tags": []
          },
          "execution_count": 108
        }
      ]
    },
    {
      "cell_type": "code",
      "metadata": {
        "id": "gcNG1DYsrQKd",
        "colab": {
          "base_uri": "https://localhost:8080/"
        },
        "outputId": "f822130d-88b0-42d0-9039-0f7f407c215a"
      },
      "source": [
        "link_data = [(link.text, link['href']) for link in links if link.has_attr(\"href\")]\n",
        "link_data[:10]"
      ],
      "execution_count": null,
      "outputs": [
        {
          "output_type": "execute_result",
          "data": {
            "text/plain": [
              "[('Jump to navigation', '#mw-head'),\n",
              " ('Jump to search', '#searchInput'),\n",
              " ('', '/wiki/File:BU_School_of_Management.JPG'),\n",
              " ('Private', '/wiki/Private_school'),\n",
              " ('Dean', '/wiki/Dean_(education)'),\n",
              " ('Undergraduates', '/wiki/Undergraduate_education'),\n",
              " ('Postgraduates', '/wiki/Postgraduate_education'),\n",
              " ('Boston', '/wiki/Boston'),\n",
              " ('Massachusetts', '/wiki/Massachusetts'),\n",
              " ('United States', '/wiki/United_States')]"
            ]
          },
          "metadata": {
            "tags": []
          },
          "execution_count": 110
        }
      ]
    },
    {
      "cell_type": "code",
      "metadata": {
        "id": "yr4IzaDMBx1M"
      },
      "source": [
        ""
      ],
      "execution_count": null,
      "outputs": []
    },
    {
      "cell_type": "code",
      "metadata": {
        "id": "Hq4g4g3TrQCH",
        "colab": {
          "base_uri": "https://localhost:8080/"
        },
        "outputId": "30c1c269-0521-43c6-d93d-922ba3a2b0b4"
      },
      "source": [
        "# let's only pull links that are http*\n",
        "import re\n",
        "\n",
        "http_links = soup.find_all(\"a\", attrs = {'href': re.compile(\"^http.*\")})\n",
        "http_links[:5]"
      ],
      "execution_count": null,
      "outputs": [
        {
          "output_type": "execute_result",
          "data": {
            "text/plain": [
              "[<a class=\"external text\" href=\"http://www.bu.edu/questrom/\" rel=\"nofollow\">Questrom Website</a>,\n",
              " <a class=\"external text\" href=\"http://management.bu.edu/about/facts/index.html\" rel=\"nofollow\">Boston University School of Management Students Facts and Figures</a>,\n",
              " <a class=\"external text\" href=\"https://web.archive.org/web/20060515211324/http://management.bu.edu/about/facts/index.html\" rel=\"nofollow\">Archived</a>,\n",
              " <a class=\"external text\" href=\"https://web.archive.org/web/20160304025610/http://www.bu.edu/interactive-design/2013/09/22/school-of-management-centennial/\" rel=\"nofollow\">\"School of Management Centennial\"</a>,\n",
              " <a class=\"external text\" href=\"http://www.bu.edu/interactive-design/2013/09/22/school-of-management-centennial/\" rel=\"nofollow\">the original</a>]"
            ]
          },
          "metadata": {
            "tags": []
          },
          "execution_count": 111
        }
      ]
    },
    {
      "cell_type": "code",
      "metadata": {
        "id": "K07ZG-xIBzmN",
        "colab": {
          "base_uri": "https://localhost:8080/"
        },
        "outputId": "7273e3a7-7dd1-4eb4-c6b0-cfc01f1b13f8"
      },
      "source": [
        "http_links[0]['href']"
      ],
      "execution_count": null,
      "outputs": [
        {
          "output_type": "execute_result",
          "data": {
            "application/vnd.google.colaboratory.intrinsic+json": {
              "type": "string"
            },
            "text/plain": [
              "'http://www.bu.edu/questrom/'"
            ]
          },
          "metadata": {
            "tags": []
          },
          "execution_count": 113
        }
      ]
    },
    {
      "cell_type": "code",
      "metadata": {
        "id": "UAOgp96ZBo7w"
      },
      "source": [
        "http_urls = [links['href'] for links in http_links]\n",
        "#now have list of all links on wikipedia page"
      ],
      "execution_count": null,
      "outputs": []
    },
    {
      "cell_type": "code",
      "metadata": {
        "id": "ssCL40FlBwpG",
        "colab": {
          "base_uri": "https://localhost:8080/"
        },
        "outputId": "0fe576dd-1f4b-41b3-957f-3dd3bfab32d1"
      },
      "source": [
        "http_urls[:5]"
      ],
      "execution_count": null,
      "outputs": [
        {
          "output_type": "execute_result",
          "data": {
            "text/plain": [
              "['http://www.bu.edu/questrom/',\n",
              " 'http://management.bu.edu/about/facts/index.html',\n",
              " 'https://web.archive.org/web/20060515211324/http://management.bu.edu/about/facts/index.html',\n",
              " 'https://web.archive.org/web/20160304025610/http://www.bu.edu/interactive-design/2013/09/22/school-of-management-centennial/',\n",
              " 'http://www.bu.edu/interactive-design/2013/09/22/school-of-management-centennial/']"
            ]
          },
          "metadata": {
            "tags": []
          },
          "execution_count": 114
        }
      ]
    },
    {
      "cell_type": "code",
      "metadata": {
        "id": "oLhxpUunB69u"
      },
      "source": [
        ""
      ],
      "execution_count": null,
      "outputs": []
    },
    {
      "cell_type": "markdown",
      "metadata": {
        "id": "CTCSP9USDjPD"
      },
      "source": [
        "## Parsing Web Tables"
      ]
    },
    {
      "cell_type": "code",
      "metadata": {
        "id": "JvlFRIT7DoZA",
        "colab": {
          "base_uri": "https://localhost:8080/"
        },
        "outputId": "1983551b-038b-4773-f146-ab03864b52d5"
      },
      "source": [
        "import pandas as pd\n",
        "URL2 = 'https://en.wikipedia.org/wiki/List_of_Super_Bowl_champions'\n",
        "tables = pd.read_html(URL2)\n",
        "type(tables)"
      ],
      "execution_count": null,
      "outputs": [
        {
          "output_type": "execute_result",
          "data": {
            "text/plain": [
              "list"
            ]
          },
          "metadata": {
            "tags": []
          },
          "execution_count": 11
        }
      ]
    },
    {
      "cell_type": "code",
      "metadata": {
        "id": "EHLkh5g_DzwO",
        "colab": {
          "base_uri": "https://localhost:8080/"
        },
        "outputId": "dee01080-5f24-4e7d-878f-5b1e2114203f"
      },
      "source": [
        "len(tables)"
      ],
      "execution_count": null,
      "outputs": [
        {
          "output_type": "execute_result",
          "data": {
            "text/plain": [
              "16"
            ]
          },
          "metadata": {
            "tags": []
          },
          "execution_count": 12
        }
      ]
    },
    {
      "cell_type": "code",
      "metadata": {
        "id": "vFmwgybRD0-k",
        "colab": {
          "base_uri": "https://localhost:8080/",
          "height": 197
        },
        "outputId": "200dc68f-bcfd-4324-ac5e-2cfb962c1b7e"
      },
      "source": [
        "tables[1].head()"
      ],
      "execution_count": null,
      "outputs": [
        {
          "output_type": "execute_result",
          "data": {
            "text/html": [
              "<div>\n",
              "<style scoped>\n",
              "    .dataframe tbody tr th:only-of-type {\n",
              "        vertical-align: middle;\n",
              "    }\n",
              "\n",
              "    .dataframe tbody tr th {\n",
              "        vertical-align: top;\n",
              "    }\n",
              "\n",
              "    .dataframe thead th {\n",
              "        text-align: right;\n",
              "    }\n",
              "</style>\n",
              "<table border=\"1\" class=\"dataframe\">\n",
              "  <thead>\n",
              "    <tr style=\"text-align: right;\">\n",
              "      <th></th>\n",
              "      <th>Game</th>\n",
              "      <th>Date/Season</th>\n",
              "      <th>Winning team</th>\n",
              "      <th>Score</th>\n",
              "      <th>Losing team</th>\n",
              "      <th>Venue</th>\n",
              "      <th>City</th>\n",
              "      <th>Attendance</th>\n",
              "      <th>Ref</th>\n",
              "    </tr>\n",
              "  </thead>\n",
              "  <tbody>\n",
              "    <tr>\n",
              "      <th>0</th>\n",
              "      <td>I[sb 1]</td>\n",
              "      <td>January 15, 1967 (1966 AFL/1966 NFL)</td>\n",
              "      <td>Green Bay Packersn(1, 1–0)</td>\n",
              "      <td>35–10</td>\n",
              "      <td>Kansas City Chiefsa(1, 0–1)</td>\n",
              "      <td>Los Angeles Memorial Coliseum</td>\n",
              "      <td>Los Angeles, California[sb 2]</td>\n",
              "      <td>61946</td>\n",
              "      <td>[12][13]</td>\n",
              "    </tr>\n",
              "    <tr>\n",
              "      <th>1</th>\n",
              "      <td>II[sb 1]</td>\n",
              "      <td>January 14, 1968 (1967 AFL/1967 NFL)</td>\n",
              "      <td>Green Bay Packersn(2, 2–0)</td>\n",
              "      <td>33–14</td>\n",
              "      <td>Oakland Raidersa(1, 0–1)</td>\n",
              "      <td>Miami Orange Bowl</td>\n",
              "      <td>Miami, Florida[sb 3]</td>\n",
              "      <td>75546</td>\n",
              "      <td>[14][13]</td>\n",
              "    </tr>\n",
              "    <tr>\n",
              "      <th>2</th>\n",
              "      <td>III[sb 1]</td>\n",
              "      <td>January 12, 1969 (1968 AFL/1968 NFL)</td>\n",
              "      <td>New York Jetsa(1, 1–0)</td>\n",
              "      <td>16–7</td>\n",
              "      <td>Baltimore Coltsn(1, 0–1)</td>\n",
              "      <td>Miami Orange Bowl (2)</td>\n",
              "      <td>Miami, Florida (2)[sb 3]</td>\n",
              "      <td>75389</td>\n",
              "      <td>[15][13]</td>\n",
              "    </tr>\n",
              "    <tr>\n",
              "      <th>3</th>\n",
              "      <td>IV[sb 1]</td>\n",
              "      <td>January 11, 1970 (1969 AFL/1969 NFL)</td>\n",
              "      <td>Kansas City Chiefsa(2, 1–1)</td>\n",
              "      <td>23–7</td>\n",
              "      <td>Minnesota Vikingsn(1, 0–1)</td>\n",
              "      <td>Tulane Stadium</td>\n",
              "      <td>New Orleans, Louisiana</td>\n",
              "      <td>80562</td>\n",
              "      <td>[16][13]</td>\n",
              "    </tr>\n",
              "    <tr>\n",
              "      <th>4</th>\n",
              "      <td>V</td>\n",
              "      <td>January 17, 1971 (1970)</td>\n",
              "      <td>Baltimore ColtsA(2, 1–1)</td>\n",
              "      <td>16–13</td>\n",
              "      <td>Dallas CowboysN(1, 0–1)</td>\n",
              "      <td>Miami Orange Bowl (3)</td>\n",
              "      <td>Miami, Florida (3)[sb 3]</td>\n",
              "      <td>79204</td>\n",
              "      <td>[17][13]</td>\n",
              "    </tr>\n",
              "  </tbody>\n",
              "</table>\n",
              "</div>"
            ],
            "text/plain": [
              "        Game                           Date/Season  ... Attendance       Ref\n",
              "0    I[sb 1]  January 15, 1967 (1966 AFL/1966 NFL)  ...      61946  [12][13]\n",
              "1   II[sb 1]  January 14, 1968 (1967 AFL/1967 NFL)  ...      75546  [14][13]\n",
              "2  III[sb 1]  January 12, 1969 (1968 AFL/1968 NFL)  ...      75389  [15][13]\n",
              "3   IV[sb 1]  January 11, 1970 (1969 AFL/1969 NFL)  ...      80562  [16][13]\n",
              "4          V               January 17, 1971 (1970)  ...      79204  [17][13]\n",
              "\n",
              "[5 rows x 9 columns]"
            ]
          },
          "metadata": {
            "tags": []
          },
          "execution_count": 13
        }
      ]
    },
    {
      "cell_type": "code",
      "metadata": {
        "id": "VCVFHvTED5Mc"
      },
      "source": [
        ""
      ],
      "execution_count": null,
      "outputs": []
    },
    {
      "cell_type": "markdown",
      "metadata": {
        "id": "Jp7OS60RECF2"
      },
      "source": [
        "## Downloading Files from Web"
      ]
    },
    {
      "cell_type": "code",
      "metadata": {
        "id": "ck7UXH9kEBOj"
      },
      "source": [
        "URL3 = 'https://vincentarelbundock.github.io/Rdatasets/csv/ggplot2/diamonds.csv'"
      ],
      "execution_count": null,
      "outputs": []
    },
    {
      "cell_type": "markdown",
      "metadata": {
        "id": "gG1FNTtgEHdt"
      },
      "source": [
        "> wget"
      ]
    },
    {
      "cell_type": "code",
      "metadata": {
        "id": "He4SOGK-EG2T",
        "colab": {
          "base_uri": "https://localhost:8080/"
        },
        "outputId": "1e442e4d-aa50-4d86-fc2f-1386455e917b"
      },
      "source": [
        "! wget https://vincentarelbundock.github.io/Rdatasets/csv/ggplot2/diamonds.csv"
      ],
      "execution_count": null,
      "outputs": [
        {
          "output_type": "stream",
          "text": [
            "--2020-11-05 01:41:13--  https://vincentarelbundock.github.io/Rdatasets/csv/ggplot2/diamonds.csv\n",
            "Resolving vincentarelbundock.github.io (vincentarelbundock.github.io)... 185.199.108.153, 185.199.109.153, 185.199.110.153, ...\n",
            "Connecting to vincentarelbundock.github.io (vincentarelbundock.github.io)|185.199.108.153|:443... connected.\n",
            "HTTP request sent, awaiting response... 200 OK\n",
            "Length: 3192560 (3.0M) [text/csv]\n",
            "Saving to: ‘diamonds.csv’\n",
            "\n",
            "diamonds.csv        100%[===================>]   3.04M  11.1MB/s    in 0.3s    \n",
            "\n",
            "2020-11-05 01:41:13 (11.1 MB/s) - ‘diamonds.csv’ saved [3192560/3192560]\n",
            "\n"
          ],
          "name": "stdout"
        }
      ]
    },
    {
      "cell_type": "code",
      "metadata": {
        "id": "2NJDkJHUEJ8q"
      },
      "source": [
        ""
      ],
      "execution_count": null,
      "outputs": []
    },
    {
      "cell_type": "markdown",
      "metadata": {
        "id": "iry67_x6HSR6"
      },
      "source": [
        "# 2-APIs"
      ]
    },
    {
      "cell_type": "markdown",
      "metadata": {
        "id": "t_sCyM8GIzei"
      },
      "source": [
        "## StackExchange API"
      ]
    },
    {
      "cell_type": "markdown",
      "metadata": {
        "id": "wT_scnMTKZjq"
      },
      "source": [
        "![](https://i.stack.imgur.com/sByum.png)\n",
        "\n",
        "https://api.stackexchange.com/docs\n",
        "\n",
        "https://stackexchange.com/sites"
      ]
    },
    {
      "cell_type": "code",
      "metadata": {
        "id": "5xXDZM7VHUkS"
      },
      "source": [
        "BASE_URL = \"https://api.stackexchange.com/2.2/\""
      ],
      "execution_count": null,
      "outputs": []
    },
    {
      "cell_type": "markdown",
      "metadata": {
        "id": "uNHIlRkNN-bw"
      },
      "source": [
        "### Answers Endpoint"
      ]
    },
    {
      "cell_type": "code",
      "metadata": {
        "id": "Ig1evArdJ2In",
        "colab": {
          "base_uri": "https://localhost:8080/",
          "height": 34
        },
        "outputId": "54b32054-6412-4731-a5be-aa1073712df2"
      },
      "source": [
        "# build a url for the answers endpoint\n",
        "URL = BASE_URL + 'answers'\n",
        "URL"
      ],
      "execution_count": null,
      "outputs": [
        {
          "output_type": "execute_result",
          "data": {
            "application/vnd.google.colaboratory.intrinsic+json": {
              "type": "string"
            },
            "text/plain": [
              "'https://api.stackexchange.com/2.2/answers'"
            ]
          },
          "metadata": {
            "tags": []
          },
          "execution_count": 122
        }
      ]
    },
    {
      "cell_type": "code",
      "metadata": {
        "id": "GOPDijKJJ6gP",
        "colab": {
          "base_uri": "https://localhost:8080/"
        },
        "outputId": "65aed2a4-4be5-48ee-f5b4-60ed2176a230"
      },
      "source": [
        "resp = requests.get(URL)\n",
        "resp.status_code"
      ],
      "execution_count": null,
      "outputs": [
        {
          "output_type": "execute_result",
          "data": {
            "text/plain": [
              "400"
            ]
          },
          "metadata": {
            "tags": []
          },
          "execution_count": 123
        }
      ]
    },
    {
      "cell_type": "code",
      "metadata": {
        "id": "sHqVbah5KCHG",
        "colab": {
          "base_uri": "https://localhost:8080/",
          "height": 34
        },
        "outputId": "f9964f64-5429-45e3-87fe-f48310e54334"
      },
      "source": [
        "resp.reason"
      ],
      "execution_count": null,
      "outputs": [
        {
          "output_type": "execute_result",
          "data": {
            "application/vnd.google.colaboratory.intrinsic+json": {
              "type": "string"
            },
            "text/plain": [
              "'Bad Request'"
            ]
          },
          "metadata": {
            "tags": []
          },
          "execution_count": 124
        }
      ]
    },
    {
      "cell_type": "code",
      "metadata": {
        "id": "dXgB1JuGKH03",
        "colab": {
          "base_uri": "https://localhost:8080/"
        },
        "outputId": "7acddef9-d530-43da-b81d-6f07b8a33dfe"
      },
      "source": [
        "resp.json()"
      ],
      "execution_count": null,
      "outputs": [
        {
          "output_type": "execute_result",
          "data": {
            "text/plain": [
              "{'error_id': 400,\n",
              " 'error_message': 'site is required',\n",
              " 'error_name': 'bad_parameter'}"
            ]
          },
          "metadata": {
            "tags": []
          },
          "execution_count": 125
        }
      ]
    },
    {
      "cell_type": "code",
      "metadata": {
        "id": "KQxq8O4-KI-f"
      },
      "source": [
        "# let's add site as vars\n",
        "SITE = '?site=stackoverflow'\n",
        "EP = 'answers'       #endpoint"
      ],
      "execution_count": null,
      "outputs": []
    },
    {
      "cell_type": "code",
      "metadata": {
        "id": "csxvOrzeLCRL"
      },
      "source": [
        ""
      ],
      "execution_count": null,
      "outputs": []
    },
    {
      "cell_type": "code",
      "metadata": {
        "id": "lbCiyhrxKLgn",
        "colab": {
          "base_uri": "https://localhost:8080/",
          "height": 34
        },
        "outputId": "2b282e49-713c-4ba8-ab35-b6048ef14c2d"
      },
      "source": [
        "URL1 = BASE_URL + EP + SITE\n",
        "URL1"
      ],
      "execution_count": null,
      "outputs": [
        {
          "output_type": "execute_result",
          "data": {
            "application/vnd.google.colaboratory.intrinsic+json": {
              "type": "string"
            },
            "text/plain": [
              "'https://api.stackexchange.com/2.2/answers?site=stackoverflow'"
            ]
          },
          "metadata": {
            "tags": []
          },
          "execution_count": 138
        }
      ]
    },
    {
      "cell_type": "code",
      "metadata": {
        "id": "Cr3GnPsJKNcv",
        "colab": {
          "base_uri": "https://localhost:8080/"
        },
        "outputId": "ce7f1906-90c1-417d-f7b4-1bb48058da09"
      },
      "source": [
        "resp1 = requests.get(URL1) #kept getting 400 error for some reason\n",
        "resp1.status_code"
      ],
      "execution_count": null,
      "outputs": [
        {
          "output_type": "execute_result",
          "data": {
            "text/plain": [
              "200"
            ]
          },
          "metadata": {
            "tags": []
          },
          "execution_count": 139
        }
      ]
    },
    {
      "cell_type": "code",
      "metadata": {
        "id": "QBNgD-GlK_am",
        "colab": {
          "base_uri": "https://localhost:8080/"
        },
        "outputId": "286c2ceb-da62-4509-9873-2704ffd60fb0"
      },
      "source": [
        "# parse the json into answers\n",
        "answers = resp1.json()\n",
        "answers['items'][:3]"
      ],
      "execution_count": null,
      "outputs": [
        {
          "output_type": "execute_result",
          "data": {
            "text/plain": [
              "[{'answer_id': 64690312,\n",
              "  'content_license': 'CC BY-SA 4.0',\n",
              "  'creation_date': 1604542702,\n",
              "  'is_accepted': False,\n",
              "  'last_activity_date': 1604542702,\n",
              "  'owner': {'display_name': 'Sudaraka',\n",
              "   'link': 'https://stackoverflow.com/users/3237589/sudaraka',\n",
              "   'profile_image': 'https://graph.facebook.com/850714398/picture?type=large',\n",
              "   'reputation': 15,\n",
              "   'user_id': 3237589,\n",
              "   'user_type': 'registered'},\n",
              "  'question_id': 64690131,\n",
              "  'score': 0},\n",
              " {'answer_id': 64690247,\n",
              "  'content_license': 'CC BY-SA 4.0',\n",
              "  'creation_date': 1604542251,\n",
              "  'is_accepted': False,\n",
              "  'last_activity_date': 1604542699,\n",
              "  'last_edit_date': 1604542699,\n",
              "  'owner': {'accept_rate': 90,\n",
              "   'display_name': 'andrew_reece',\n",
              "   'link': 'https://stackoverflow.com/users/2799941/andrew-reece',\n",
              "   'profile_image': 'https://www.gravatar.com/avatar/260db848f0eb7e3cd55998969a7a43a4?s=128&d=identicon&r=PG&f=1',\n",
              "   'reputation': 14782,\n",
              "   'user_id': 2799941,\n",
              "   'user_type': 'registered'},\n",
              "  'question_id': 64690197,\n",
              "  'score': 0},\n",
              " {'answer_id': 64690311,\n",
              "  'content_license': 'CC BY-SA 4.0',\n",
              "  'creation_date': 1604542696,\n",
              "  'is_accepted': False,\n",
              "  'last_activity_date': 1604542696,\n",
              "  'owner': {'display_name': 'M&#225;rio Garcia',\n",
              "   'link': 'https://stackoverflow.com/users/11740726/m%c3%a1rio-garcia',\n",
              "   'profile_image': 'https://lh5.googleusercontent.com/-azx4fl8Oy_A/AAAAAAAAAAI/AAAAAAAARpk/qc5bl72vBZg/photo.jpg?sz=128',\n",
              "   'reputation': 348,\n",
              "   'user_id': 11740726,\n",
              "   'user_type': 'registered'},\n",
              "  'question_id': 64690013,\n",
              "  'score': 0}]"
            ]
          },
          "metadata": {
            "tags": []
          },
          "execution_count": 140
        }
      ]
    },
    {
      "cell_type": "code",
      "metadata": {
        "id": "7dH4VZriMAXW"
      },
      "source": [
        ""
      ],
      "execution_count": null,
      "outputs": []
    },
    {
      "cell_type": "code",
      "metadata": {
        "id": "IShLSdFMLb3G",
        "colab": {
          "base_uri": "https://localhost:8080/",
          "height": 34
        },
        "outputId": "6e7df69b-6e64-426a-bbb6-b6e5e0e635d8"
      },
      "source": [
        "# get the answer with body text via the filter\n",
        "aid = answers['items'][0]['answer_id']\n",
        "EP = f\"answers/{aid}\"\n",
        "FILTER = \"&filter=withbody\"\n",
        "URL = BASE_URL + EP + SITE + FILTER\n",
        "URL"
      ],
      "execution_count": null,
      "outputs": [
        {
          "output_type": "execute_result",
          "data": {
            "application/vnd.google.colaboratory.intrinsic+json": {
              "type": "string"
            },
            "text/plain": [
              "'https://api.stackexchange.com/2.2/answers/64690312?site=stackoverflow&filter=withbody'"
            ]
          },
          "metadata": {
            "tags": []
          },
          "execution_count": 141
        }
      ]
    },
    {
      "cell_type": "code",
      "metadata": {
        "id": "g-QWFj3WMDx3",
        "colab": {
          "base_uri": "https://localhost:8080/"
        },
        "outputId": "53ab39d3-ce9c-4954-c31d-835e8748a890"
      },
      "source": [
        "resp = requests.get(URL)\n",
        "resp.status_code"
      ],
      "execution_count": null,
      "outputs": [
        {
          "output_type": "execute_result",
          "data": {
            "text/plain": [
              "200"
            ]
          },
          "metadata": {
            "tags": []
          },
          "execution_count": 142
        }
      ]
    },
    {
      "cell_type": "code",
      "metadata": {
        "id": "aECriU6oMzuH",
        "colab": {
          "base_uri": "https://localhost:8080/",
          "height": 86
        },
        "outputId": "7ba78b99-ef4e-445e-a28f-3ecdb1747a82"
      },
      "source": [
        "resp.json()['items'][0]['body']"
      ],
      "execution_count": null,
      "outputs": [
        {
          "output_type": "execute_result",
          "data": {
            "application/vnd.google.colaboratory.intrinsic+json": {
              "type": "string"
            },
            "text/plain": [
              "'<p>It is fairly straightforward to do this, instead of passing the whole data frame to <code>radachart()</code> function, just pass the required data for one site.</p>\\n<pre><code>df = data.frame(ambient_air_temp = c(85, -40, 9.176667, 8.492500,  8.477500, 8.475000),\\n                rel_hum = c(100.0000,0.0000,71.0700, 80.9600, 76.9875,76.5525 ),\\n                bar_pre = c(2000.000, 10.000, 1013.167, 1014.000, 1012.675, 1013.775),\\n                ave_ws = c(160,0,4.043333,2.035000,6.842500,6.335000),\\n                pd2.5 = c(999.9, 0, 5.133333, 5.600000, 6.275000, 5.175000),\\n                pd10 = c(1999.9, 0, 25.16667, 25.10000, 28.15000, 30.20000))\\n\\nrow.names(df) = c(&quot;1&quot;,&quot;2&quot;,&quot;arc1045&quot;,&quot;arc1047&quot;,&quot;arc1048&quot;,&quot;arc1050&quot;)\\n\\nlibrary(fmsb)\\npltrd = function(idx) radarchart(df[c(1,2,idx),], title = row.names(df)[idx])\\n</code></pre>\\n<p>Since your data is in idx = {3,4,5}, you can call this function using those values</p>\\n<pre><code>pltrd(3)\\n</code></pre>\\n<p><a href=\"https://i.stack.imgur.com/O9me5.png\" rel=\"nofollow noreferrer\"><img src=\"https://i.stack.imgur.com/O9me5.png\" alt=\"enter image description here\" /></a></p>\\n<pre><code>pltrd(4)\\n</code></pre>\\n<p><a href=\"https://i.stack.imgur.com/61AON.png\" rel=\"nofollow noreferrer\"><img src=\"https://i.stack.imgur.com/61AON.png\" alt=\"enter image description here\" /></a></p>\\n<pre><code>pltrd(5)\\n</code></pre>\\n<p><a href=\"https://i.stack.imgur.com/a0bxd.png\" rel=\"nofollow noreferrer\"><img src=\"https://i.stack.imgur.com/a0bxd.png\" alt=\"enter image description here\" /></a></p>\\n'"
            ]
          },
          "metadata": {
            "tags": []
          },
          "execution_count": 145
        }
      ]
    },
    {
      "cell_type": "code",
      "metadata": {
        "id": "fC-o87DjNAwe"
      },
      "source": [
        ""
      ],
      "execution_count": null,
      "outputs": []
    },
    {
      "cell_type": "markdown",
      "metadata": {
        "id": "gZpEJAvPOWrE"
      },
      "source": [
        "### Questions Endpoint"
      ]
    },
    {
      "cell_type": "code",
      "metadata": {
        "id": "tb53IQIXOYL3"
      },
      "source": [
        "SITE = '?site=stackoverflow'\n",
        "EP = 'questions'"
      ],
      "execution_count": null,
      "outputs": []
    },
    {
      "cell_type": "code",
      "metadata": {
        "id": "_DlCPAU8OacE",
        "colab": {
          "base_uri": "https://localhost:8080/",
          "height": 34
        },
        "outputId": "95044322-5240-4b7b-e28d-07e562c09f0f"
      },
      "source": [
        "URL = BASE_URL + EP + SITE + FILTER\n",
        "URL"
      ],
      "execution_count": null,
      "outputs": [
        {
          "output_type": "execute_result",
          "data": {
            "application/vnd.google.colaboratory.intrinsic+json": {
              "type": "string"
            },
            "text/plain": [
              "'https://api.stackexchange.com/2.2/questions?site=stackoverflow&filter=withbody'"
            ]
          },
          "metadata": {
            "tags": []
          },
          "execution_count": 147
        }
      ]
    },
    {
      "cell_type": "code",
      "metadata": {
        "id": "jVXa97fSObmM"
      },
      "source": [
        "resp = requests.get(URL)"
      ],
      "execution_count": null,
      "outputs": []
    },
    {
      "cell_type": "code",
      "metadata": {
        "id": "G86ZBpreOf90",
        "colab": {
          "base_uri": "https://localhost:8080/"
        },
        "outputId": "57b4dffe-16e4-47ab-84ad-58ac1cb0896d"
      },
      "source": [
        "resp.status_code"
      ],
      "execution_count": null,
      "outputs": [
        {
          "output_type": "execute_result",
          "data": {
            "text/plain": [
              "200"
            ]
          },
          "metadata": {
            "tags": []
          },
          "execution_count": 149
        }
      ]
    },
    {
      "cell_type": "code",
      "metadata": {
        "id": "v-UhDK0jOgrU",
        "colab": {
          "base_uri": "https://localhost:8080/"
        },
        "outputId": "2afb5320-04f8-4cb5-fc16-491af25df624"
      },
      "source": [
        "entries = resp.json()\n",
        "entries['items'][0]"
      ],
      "execution_count": null,
      "outputs": [
        {
          "output_type": "execute_result",
          "data": {
            "text/plain": [
              "{'answer_count': 1,\n",
              " 'body': '<p>Is it possible to do something like the following?</p>\\n<pre class=\"lang-scala prettyprint-override\"><code>@FunctionHint(\\n  output = new DataTypeHint(s&quot;is_$role BOOLEAN&quot;)\\n)\\nclass Func(role: String) extends TableFunction[Boolean] {\\n  ...\\n}\\n</code></pre>\\n<p>Notice the use of <code>role</code> in the Annotation which is a field on the Object being annotated.</p>\\n',\n",
              " 'content_license': 'CC BY-SA 4.0',\n",
              " 'creation_date': 1604449925,\n",
              " 'is_answered': False,\n",
              " 'last_activity_date': 1604543169,\n",
              " 'last_edit_date': 1604453864,\n",
              " 'link': 'https://stackoverflow.com/questions/64672716/scala-access-objects-field-within-class-annotation',\n",
              " 'owner': {'accept_rate': 76,\n",
              "  'display_name': 'Awesome-o',\n",
              "  'link': 'https://stackoverflow.com/users/1979235/awesome-o',\n",
              "  'profile_image': 'https://www.gravatar.com/avatar/a0c6779dea8d581a86ee5a0dbf1eb5b9?s=128&d=identicon&r=PG',\n",
              "  'reputation': 1790,\n",
              "  'user_id': 1979235,\n",
              "  'user_type': 'registered'},\n",
              " 'question_id': 64672716,\n",
              " 'score': 0,\n",
              " 'tags': ['scala', 'reflection', 'annotations', 'apache-flink'],\n",
              " 'title': 'Scala - Access Object&#39;s field within Class Annotation',\n",
              " 'view_count': 31}"
            ]
          },
          "metadata": {
            "tags": []
          },
          "execution_count": 150
        }
      ]
    },
    {
      "cell_type": "code",
      "metadata": {
        "id": "sXct4c03Okgb"
      },
      "source": [
        ""
      ],
      "execution_count": null,
      "outputs": []
    },
    {
      "cell_type": "markdown",
      "metadata": {
        "id": "vn-u5NyjQemw"
      },
      "source": [
        "### Questions by tags"
      ]
    },
    {
      "cell_type": "markdown",
      "metadata": {
        "id": "q9XwzgshQoJ5"
      },
      "source": [
        "You might need to look through the API docs listed above.\n",
        "\n",
        "1. Write a function to get the questions that have a tag input by the user\n",
        "1. Return a __list of dictionaries__ that includes the __question id, title, and tags__ as key:value pairs over the response object"
      ]
    },
    {
      "cell_type": "code",
      "metadata": {
        "id": "LROLRtniQlNi"
      },
      "source": [
        "def fun(tagz):\n",
        "    list_of_dikts = []\n",
        "    URL = BASE_URL + EP + SITE + FILTER\n",
        "    resp = requests.get(URL)\n",
        "    if resp.status_code == 200:\n",
        "        entries = resp.json()\n",
        "        for i in range(len(entries['items'])):\n",
        "            if tagz in entries['items'][i]['tags']:\n",
        "                dikt = {'question_id' : entries['items'][i]['question_id'], 'title' : entries['items'][i]['title'], 'tags':entries['items'][i]['tags'] }\n",
        "                list_of_dikts.append(dikt)\n",
        "\n",
        "    return list_of_dikts"
      ],
      "execution_count": null,
      "outputs": []
    },
    {
      "cell_type": "code",
      "metadata": {
        "id": "8KDxB-IXQq2j"
      },
      "source": [
        "def fun(tagz):\n",
        "  list_of_dikts = []\n",
        "  BASE_URL = \"https://api.stackexchange.com/2.2/\"\n",
        "  SITE = '?site=stackoverflow'\n",
        "  EP = 'questions'\n",
        "  FILTER1 = \"&filter=withbody\"\n",
        "  FILTER2 = f'&tags={tagz}'\n",
        "  URL = BASE_URL + EP + SITE + FILTER1 + FILTER2\n",
        "  URL\n",
        "  resp = requests.get(URL)\n",
        "  if resp.status_code == 200:\n",
        "        entries = resp.json()\n",
        "        for i in range(len(entries['items'])):\n",
        "            if tagz in entries['items'][i]['tags']:\n",
        "                dikt = {'question_id' : entries['items'][i]['question_id'], 'title' : entries['items'][i]['title'], 'tags':entries['items'][i]['tags'] }\n",
        "                list_of_dikts.append(dikt)\n",
        "  print(URL)\n",
        "  return list_of_dikts\n",
        " "
      ],
      "execution_count": null,
      "outputs": []
    },
    {
      "cell_type": "code",
      "metadata": {
        "id": "gqsIoAkpSHod",
        "colab": {
          "base_uri": "https://localhost:8080/"
        },
        "outputId": "5ebf1c6e-f651-4cd9-f19a-5b2d803e1c33"
      },
      "source": [
        "fun('python')"
      ],
      "execution_count": null,
      "outputs": [
        {
          "output_type": "stream",
          "text": [
            "https://api.stackexchange.com/2.2/questions?site=stackoverflow&filter=withbody&tags=python\n"
          ],
          "name": "stdout"
        },
        {
          "output_type": "execute_result",
          "data": {
            "text/plain": [
              "[{'question_id': 64690523,\n",
              "  'tags': ['python'],\n",
              "  'title': 'How to make a bot in python?'},\n",
              " {'question_id': 64690519,\n",
              "  'tags': ['python', 'tensorflow', 'masking'],\n",
              "  'title': 'Pad Tensorflow training data without affecting results'},\n",
              " {'question_id': 64690509,\n",
              "  'tags': ['python', 'python-3.x', 'pygame'],\n",
              "  'title': 'How do I make my orange&#39;s randomizefall pthon?'},\n",
              " {'question_id': 64690508,\n",
              "  'tags': ['python', 'django'],\n",
              "  'title': 'Limit Foreign Key Options in Django Select'}]"
            ]
          },
          "metadata": {
            "tags": []
          },
          "execution_count": 166
        }
      ]
    },
    {
      "cell_type": "code",
      "metadata": {
        "id": "vtDplw23S0hz",
        "colab": {
          "base_uri": "https://localhost:8080/"
        },
        "outputId": "151e84dc-e4ad-4927-83aa-62685995a6b5"
      },
      "source": [
        "fun('R')"
      ],
      "execution_count": null,
      "outputs": [
        {
          "output_type": "stream",
          "text": [
            "https://api.stackexchange.com/2.2/questions?site=stackoverflow&filter=withbody&tags=R\n"
          ],
          "name": "stdout"
        },
        {
          "output_type": "execute_result",
          "data": {
            "text/plain": [
              "[]"
            ]
          },
          "metadata": {
            "tags": []
          },
          "execution_count": 169
        }
      ]
    },
    {
      "cell_type": "code",
      "metadata": {
        "id": "Rm0nkSClTUTo",
        "colab": {
          "base_uri": "https://localhost:8080/"
        },
        "outputId": "d7ec0c27-c162-4daa-92c3-c79361c96aa8"
      },
      "source": [
        "fun('html')"
      ],
      "execution_count": null,
      "outputs": [
        {
          "output_type": "stream",
          "text": [
            "https://api.stackexchange.com/2.2/questions?site=stackoverflow&filter=withbody&tags=html\n"
          ],
          "name": "stdout"
        },
        {
          "output_type": "execute_result",
          "data": {
            "text/plain": [
              "[{'question_id': 60394733,\n",
              "  'tags': ['javascript', 'html', 'reactjs'],\n",
              "  'title': 'React - KeyBoard Navigation on ul li list'},\n",
              " {'question_id': 64690514,\n",
              "  'tags': ['javascript', 'html', 'math', 'coordinates'],\n",
              "  'title': 'Creating a resizable/draggable/rotate view in javascript'},\n",
              " {'question_id': 64689351,\n",
              "  'tags': ['javascript', 'html', 'regex', 'function'],\n",
              "  'title': 'checking each function while using onsubmit button javascript'}]"
            ]
          },
          "metadata": {
            "tags": []
          },
          "execution_count": 168
        }
      ]
    }
  ]
}